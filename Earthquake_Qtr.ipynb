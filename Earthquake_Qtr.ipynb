{
 "cells": [
  {
   "cell_type": "code",
   "execution_count": 2,
   "id": "a7e0dfb4",
   "metadata": {},
   "outputs": [],
   "source": [
    "import matplotlib.pyplot as plt\n",
    "import pandas as pd\n",
    "import numpy as np\n",
    "import os\n",
    "import seaborn as sns\n",
    "from datetime import datetime\n"
   ]
  },
  {
   "cell_type": "code",
   "execution_count": 3,
   "id": "e42a52bf",
   "metadata": {},
   "outputs": [
    {
     "data": {
      "text/html": [
       "<div>\n",
       "<style scoped>\n",
       "    .dataframe tbody tr th:only-of-type {\n",
       "        vertical-align: middle;\n",
       "    }\n",
       "\n",
       "    .dataframe tbody tr th {\n",
       "        vertical-align: top;\n",
       "    }\n",
       "\n",
       "    .dataframe thead th {\n",
       "        text-align: right;\n",
       "    }\n",
       "</style>\n",
       "<table border=\"1\" class=\"dataframe\">\n",
       "  <thead>\n",
       "    <tr style=\"text-align: right;\">\n",
       "      <th></th>\n",
       "      <th>time</th>\n",
       "      <th>depth</th>\n",
       "      <th>mag</th>\n",
       "      <th>place</th>\n",
       "    </tr>\n",
       "  </thead>\n",
       "  <tbody>\n",
       "    <tr>\n",
       "      <th>0</th>\n",
       "      <td>2022-03-31 23:47:44.170000+00:00</td>\n",
       "      <td>5.77</td>\n",
       "      <td>2.50</td>\n",
       "      <td>6 km ESE of La Parguera, Puerto Rico</td>\n",
       "    </tr>\n",
       "    <tr>\n",
       "      <th>1</th>\n",
       "      <td>2022-03-31 23:32:34.458000+00:00</td>\n",
       "      <td>10.00</td>\n",
       "      <td>4.60</td>\n",
       "      <td>southeast of the Loyalty Islands</td>\n",
       "    </tr>\n",
       "    <tr>\n",
       "      <th>2</th>\n",
       "      <td>2022-03-31 23:18:16.617000+00:00</td>\n",
       "      <td>10.00</td>\n",
       "      <td>5.20</td>\n",
       "      <td>252 km NW of Kiunga, Papua New Guinea</td>\n",
       "    </tr>\n",
       "    <tr>\n",
       "      <th>3</th>\n",
       "      <td>2022-03-31 23:13:42.735000+00:00</td>\n",
       "      <td>10.00</td>\n",
       "      <td>4.40</td>\n",
       "      <td>southeast of the Loyalty Islands</td>\n",
       "    </tr>\n",
       "    <tr>\n",
       "      <th>4</th>\n",
       "      <td>2022-03-31 23:13:07.561000+00:00</td>\n",
       "      <td>10.00</td>\n",
       "      <td>4.20</td>\n",
       "      <td>44 km NNE of Bazar-Korgon, Kyrgyzstan</td>\n",
       "    </tr>\n",
       "    <tr>\n",
       "      <th>...</th>\n",
       "      <td>...</td>\n",
       "      <td>...</td>\n",
       "      <td>...</td>\n",
       "      <td>...</td>\n",
       "    </tr>\n",
       "    <tr>\n",
       "      <th>7015</th>\n",
       "      <td>2022-01-01 02:17:56.815000+00:00</td>\n",
       "      <td>105.79</td>\n",
       "      <td>4.20</td>\n",
       "      <td>74 km NW of Murghob, Tajikistan</td>\n",
       "    </tr>\n",
       "    <tr>\n",
       "      <th>7016</th>\n",
       "      <td>2022-01-01 01:38:57.636000+00:00</td>\n",
       "      <td>10.00</td>\n",
       "      <td>3.10</td>\n",
       "      <td>194 km SE of Akutan, Alaska</td>\n",
       "    </tr>\n",
       "    <tr>\n",
       "      <th>7017</th>\n",
       "      <td>2022-01-01 00:27:51.990000+00:00</td>\n",
       "      <td>19.08</td>\n",
       "      <td>2.88</td>\n",
       "      <td>12km SSW of Ferndale, CA</td>\n",
       "    </tr>\n",
       "    <tr>\n",
       "      <th>7018</th>\n",
       "      <td>2022-01-01 00:10:28.735000+00:00</td>\n",
       "      <td>104.90</td>\n",
       "      <td>4.10</td>\n",
       "      <td>48 km N of Pante Makasar, Timor Leste</td>\n",
       "    </tr>\n",
       "    <tr>\n",
       "      <th>7019</th>\n",
       "      <td>2022-01-01 00:02:24.512000+00:00</td>\n",
       "      <td>60.87</td>\n",
       "      <td>4.60</td>\n",
       "      <td>126 km SSW of Hihifo, Tonga</td>\n",
       "    </tr>\n",
       "  </tbody>\n",
       "</table>\n",
       "<p>7020 rows × 4 columns</p>\n",
       "</div>"
      ],
      "text/plain": [
       "                                 time   depth   mag  \\\n",
       "0    2022-03-31 23:47:44.170000+00:00    5.77  2.50   \n",
       "1    2022-03-31 23:32:34.458000+00:00   10.00  4.60   \n",
       "2    2022-03-31 23:18:16.617000+00:00   10.00  5.20   \n",
       "3    2022-03-31 23:13:42.735000+00:00   10.00  4.40   \n",
       "4    2022-03-31 23:13:07.561000+00:00   10.00  4.20   \n",
       "...                               ...     ...   ...   \n",
       "7015 2022-01-01 02:17:56.815000+00:00  105.79  4.20   \n",
       "7016 2022-01-01 01:38:57.636000+00:00   10.00  3.10   \n",
       "7017 2022-01-01 00:27:51.990000+00:00   19.08  2.88   \n",
       "7018 2022-01-01 00:10:28.735000+00:00  104.90  4.10   \n",
       "7019 2022-01-01 00:02:24.512000+00:00   60.87  4.60   \n",
       "\n",
       "                                      place  \n",
       "0      6 km ESE of La Parguera, Puerto Rico  \n",
       "1          southeast of the Loyalty Islands  \n",
       "2     252 km NW of Kiunga, Papua New Guinea  \n",
       "3          southeast of the Loyalty Islands  \n",
       "4     44 km NNE of Bazar-Korgon, Kyrgyzstan  \n",
       "...                                     ...  \n",
       "7015        74 km NW of Murghob, Tajikistan  \n",
       "7016            194 km SE of Akutan, Alaska  \n",
       "7017               12km SSW of Ferndale, CA  \n",
       "7018  48 km N of Pante Makasar, Timor Leste  \n",
       "7019            126 km SSW of Hihifo, Tonga  \n",
       "\n",
       "[7020 rows x 4 columns]"
      ]
     },
     "execution_count": 3,
     "metadata": {},
     "output_type": "execute_result"
    }
   ],
   "source": [
    "#Import data\n",
    "df = pd.read_csv(os.path.join(\"C:\\\\Users\\\\kam52\\\\OneDrive\\\\Desktop\\\\DA1\\\\Earthquakes\\\\1Qtr_EQ.csv\"), parse_dates=['time'], usecols = ['time', 'depth', 'mag', 'place'])\n",
    "df"
   ]
  },
  {
   "cell_type": "code",
   "execution_count": 4,
   "id": "6a96bfd1",
   "metadata": {},
   "outputs": [
    {
     "data": {
      "text/plain": [
       "time     datetime64[ns, UTC]\n",
       "depth                float64\n",
       "mag                  float64\n",
       "place                 object\n",
       "dtype: object"
      ]
     },
     "execution_count": 4,
     "metadata": {},
     "output_type": "execute_result"
    }
   ],
   "source": [
    "#To check data types\n",
    "df.dtypes"
   ]
  },
  {
   "cell_type": "code",
   "execution_count": 5,
   "id": "1610b5d9",
   "metadata": {},
   "outputs": [
    {
     "data": {
      "text/plain": [
       "pandas.core.frame.DataFrame"
      ]
     },
     "execution_count": 5,
     "metadata": {},
     "output_type": "execute_result"
    }
   ],
   "source": [
    "#To check data file type\n",
    "type(df)"
   ]
  },
  {
   "cell_type": "code",
   "execution_count": 6,
   "id": "2888dda1",
   "metadata": {},
   "outputs": [
    {
     "name": "stdout",
     "output_type": "stream",
     "text": [
      "                                 time   depth   mag  \\\n",
      "0    2022-03-31 23:47:44.170000+00:00    5.77  2.50   \n",
      "1    2022-03-31 23:32:34.458000+00:00   10.00  4.60   \n",
      "2    2022-03-31 23:18:16.617000+00:00   10.00  5.20   \n",
      "3    2022-03-31 23:13:42.735000+00:00   10.00  4.40   \n",
      "4    2022-03-31 23:13:07.561000+00:00   10.00  4.20   \n",
      "...                               ...     ...   ...   \n",
      "7015 2022-01-01 02:17:56.815000+00:00  105.79  4.20   \n",
      "7016 2022-01-01 01:38:57.636000+00:00   10.00  3.10   \n",
      "7017 2022-01-01 00:27:51.990000+00:00   19.08  2.88   \n",
      "7018 2022-01-01 00:10:28.735000+00:00  104.90  4.10   \n",
      "7019 2022-01-01 00:02:24.512000+00:00   60.87  4.60   \n",
      "\n",
      "                                      place  \n",
      "0      6 km ESE of La Parguera, Puerto Rico  \n",
      "1          southeast of the Loyalty Islands  \n",
      "2     252 km NW of Kiunga, Papua New Guinea  \n",
      "3          southeast of the Loyalty Islands  \n",
      "4     44 km NNE of Bazar-Korgon, Kyrgyzstan  \n",
      "...                                     ...  \n",
      "7015        74 km NW of Murghob, Tajikistan  \n",
      "7016            194 km SE of Akutan, Alaska  \n",
      "7017               12km SSW of Ferndale, CA  \n",
      "7018  48 km N of Pante Makasar, Timor Leste  \n",
      "7019            126 km SSW of Hihifo, Tonga  \n",
      "\n",
      "[7020 rows x 4 columns]\n"
     ]
    }
   ],
   "source": [
    "#To copy datafile to work with\n",
    "df2 = df.copy()\n",
    "print(df2)"
   ]
  },
  {
   "cell_type": "code",
   "execution_count": 7,
   "id": "98bbe335",
   "metadata": {},
   "outputs": [
    {
     "data": {
      "text/plain": [
       "time     datetime64[ns, UTC]\n",
       "depth                float64\n",
       "mag                  float64\n",
       "place                 object\n",
       "dtype: object"
      ]
     },
     "execution_count": 7,
     "metadata": {},
     "output_type": "execute_result"
    }
   ],
   "source": [
    "#To check copied file\n",
    "df2.dtypes"
   ]
  },
  {
   "cell_type": "code",
   "execution_count": 8,
   "id": "eb9144e2",
   "metadata": {},
   "outputs": [
    {
     "data": {
      "text/plain": [
       "pandas.core.frame.DataFrame"
      ]
     },
     "execution_count": 8,
     "metadata": {},
     "output_type": "execute_result"
    }
   ],
   "source": [
    "#To check copied file\n",
    "type(df2)"
   ]
  },
  {
   "cell_type": "code",
   "execution_count": 9,
   "id": "6242e32e",
   "metadata": {},
   "outputs": [
    {
     "data": {
      "text/html": [
       "<div>\n",
       "<style scoped>\n",
       "    .dataframe tbody tr th:only-of-type {\n",
       "        vertical-align: middle;\n",
       "    }\n",
       "\n",
       "    .dataframe tbody tr th {\n",
       "        vertical-align: top;\n",
       "    }\n",
       "\n",
       "    .dataframe thead th {\n",
       "        text-align: right;\n",
       "    }\n",
       "</style>\n",
       "<table border=\"1\" class=\"dataframe\">\n",
       "  <thead>\n",
       "    <tr style=\"text-align: right;\">\n",
       "      <th></th>\n",
       "      <th>time</th>\n",
       "      <th>depth</th>\n",
       "      <th>mag</th>\n",
       "      <th>place</th>\n",
       "      <th>date</th>\n",
       "    </tr>\n",
       "  </thead>\n",
       "  <tbody>\n",
       "    <tr>\n",
       "      <th>0</th>\n",
       "      <td>23:47:44.170000</td>\n",
       "      <td>5.77</td>\n",
       "      <td>2.50</td>\n",
       "      <td>6 km ESE of La Parguera, Puerto Rico</td>\n",
       "      <td>2022-03-31</td>\n",
       "    </tr>\n",
       "    <tr>\n",
       "      <th>1</th>\n",
       "      <td>23:32:34.458000</td>\n",
       "      <td>10.00</td>\n",
       "      <td>4.60</td>\n",
       "      <td>southeast of the Loyalty Islands</td>\n",
       "      <td>2022-03-31</td>\n",
       "    </tr>\n",
       "    <tr>\n",
       "      <th>2</th>\n",
       "      <td>23:18:16.617000</td>\n",
       "      <td>10.00</td>\n",
       "      <td>5.20</td>\n",
       "      <td>252 km NW of Kiunga, Papua New Guinea</td>\n",
       "      <td>2022-03-31</td>\n",
       "    </tr>\n",
       "    <tr>\n",
       "      <th>3</th>\n",
       "      <td>23:13:42.735000</td>\n",
       "      <td>10.00</td>\n",
       "      <td>4.40</td>\n",
       "      <td>southeast of the Loyalty Islands</td>\n",
       "      <td>2022-03-31</td>\n",
       "    </tr>\n",
       "    <tr>\n",
       "      <th>4</th>\n",
       "      <td>23:13:07.561000</td>\n",
       "      <td>10.00</td>\n",
       "      <td>4.20</td>\n",
       "      <td>44 km NNE of Bazar-Korgon, Kyrgyzstan</td>\n",
       "      <td>2022-03-31</td>\n",
       "    </tr>\n",
       "    <tr>\n",
       "      <th>...</th>\n",
       "      <td>...</td>\n",
       "      <td>...</td>\n",
       "      <td>...</td>\n",
       "      <td>...</td>\n",
       "      <td>...</td>\n",
       "    </tr>\n",
       "    <tr>\n",
       "      <th>7015</th>\n",
       "      <td>02:17:56.815000</td>\n",
       "      <td>105.79</td>\n",
       "      <td>4.20</td>\n",
       "      <td>74 km NW of Murghob, Tajikistan</td>\n",
       "      <td>2022-01-01</td>\n",
       "    </tr>\n",
       "    <tr>\n",
       "      <th>7016</th>\n",
       "      <td>01:38:57.636000</td>\n",
       "      <td>10.00</td>\n",
       "      <td>3.10</td>\n",
       "      <td>194 km SE of Akutan, Alaska</td>\n",
       "      <td>2022-01-01</td>\n",
       "    </tr>\n",
       "    <tr>\n",
       "      <th>7017</th>\n",
       "      <td>00:27:51.990000</td>\n",
       "      <td>19.08</td>\n",
       "      <td>2.88</td>\n",
       "      <td>12km SSW of Ferndale, CA</td>\n",
       "      <td>2022-01-01</td>\n",
       "    </tr>\n",
       "    <tr>\n",
       "      <th>7018</th>\n",
       "      <td>00:10:28.735000</td>\n",
       "      <td>104.90</td>\n",
       "      <td>4.10</td>\n",
       "      <td>48 km N of Pante Makasar, Timor Leste</td>\n",
       "      <td>2022-01-01</td>\n",
       "    </tr>\n",
       "    <tr>\n",
       "      <th>7019</th>\n",
       "      <td>00:02:24.512000</td>\n",
       "      <td>60.87</td>\n",
       "      <td>4.60</td>\n",
       "      <td>126 km SSW of Hihifo, Tonga</td>\n",
       "      <td>2022-01-01</td>\n",
       "    </tr>\n",
       "  </tbody>\n",
       "</table>\n",
       "<p>7020 rows × 5 columns</p>\n",
       "</div>"
      ],
      "text/plain": [
       "                 time   depth   mag                                  place  \\\n",
       "0     23:47:44.170000    5.77  2.50   6 km ESE of La Parguera, Puerto Rico   \n",
       "1     23:32:34.458000   10.00  4.60       southeast of the Loyalty Islands   \n",
       "2     23:18:16.617000   10.00  5.20  252 km NW of Kiunga, Papua New Guinea   \n",
       "3     23:13:42.735000   10.00  4.40       southeast of the Loyalty Islands   \n",
       "4     23:13:07.561000   10.00  4.20  44 km NNE of Bazar-Korgon, Kyrgyzstan   \n",
       "...               ...     ...   ...                                    ...   \n",
       "7015  02:17:56.815000  105.79  4.20        74 km NW of Murghob, Tajikistan   \n",
       "7016  01:38:57.636000   10.00  3.10            194 km SE of Akutan, Alaska   \n",
       "7017  00:27:51.990000   19.08  2.88               12km SSW of Ferndale, CA   \n",
       "7018  00:10:28.735000  104.90  4.10  48 km N of Pante Makasar, Timor Leste   \n",
       "7019  00:02:24.512000   60.87  4.60            126 km SSW of Hihifo, Tonga   \n",
       "\n",
       "            date  \n",
       "0     2022-03-31  \n",
       "1     2022-03-31  \n",
       "2     2022-03-31  \n",
       "3     2022-03-31  \n",
       "4     2022-03-31  \n",
       "...          ...  \n",
       "7015  2022-01-01  \n",
       "7016  2022-01-01  \n",
       "7017  2022-01-01  \n",
       "7018  2022-01-01  \n",
       "7019  2022-01-01  \n",
       "\n",
       "[7020 rows x 5 columns]"
      ]
     },
     "execution_count": 9,
     "metadata": {},
     "output_type": "execute_result"
    }
   ],
   "source": [
    "#To seperate date and time\n",
    "df2['date'] = [d.date() for d in df2['time']]\n",
    "df2['time'] = [d.time() for d in df2['time']]\n",
    "df2"
   ]
  },
  {
   "cell_type": "code",
   "execution_count": 12,
   "id": "17414753",
   "metadata": {},
   "outputs": [
    {
     "name": "stdout",
     "output_type": "stream",
     "text": [
      "                  time   depth   mag  \\\n",
      "0      23:52:07.457000   10.00  4.10   \n",
      "1      22:23:44.855000   10.00  5.00   \n",
      "2      22:17:29.586000  531.95  4.50   \n",
      "3      21:54:33.450000   31.00  3.53   \n",
      "4      20:58:13.747000   10.00  4.20   \n",
      "...                ...     ...   ...   \n",
      "11534  02:17:56.815000  105.79  4.20   \n",
      "11535  01:38:57.636000   10.00  3.10   \n",
      "11536  00:27:51.990000   19.08  2.88   \n",
      "11537  00:10:28.735000  104.90  4.10   \n",
      "11538  00:02:24.512000   60.87  4.60   \n",
      "\n",
      "                                                   place        date  \n",
      "0                                26 km ENE of K?sh, Iran  2022-06-15  \n",
      "1                          Volcano Islands, Japan region  2022-06-15  \n",
      "2                              south of the Fiji Islands  2022-06-15  \n",
      "3      32 km NNW of Charlotte Amalie, U.S. Virgin Isl...  2022-06-15  \n",
      "4                                28 km ENE of K?sh, Iran  2022-06-15  \n",
      "...                                                  ...         ...  \n",
      "11534                    74 km NW of Murghob, Tajikistan  2022-01-01  \n",
      "11535                        194 km SE of Akutan, Alaska  2022-01-01  \n",
      "11536                           12km SSW of Ferndale, CA  2022-01-01  \n",
      "11537              48 km N of Pante Makasar, Timor Leste  2022-01-01  \n",
      "11538                        126 km SSW of Hihifo, Tonga  2022-01-01  \n",
      "\n",
      "[11539 rows x 5 columns]\n"
     ]
    }
   ],
   "source": [
    "# To rearrange columns for use\n",
    "print(df2)"
   ]
  },
  {
   "cell_type": "code",
   "execution_count": 11,
   "id": "841218b6",
   "metadata": {},
   "outputs": [],
   "source": [
    "#Smaller data set to be discarded if not used\n",
    "#may = pd.read_csv(os.path.join(\"C:\\\\Users\\\\kam52\\\\OneDrive\\\\Desktop\\\\DA1\\\\Project\\\\may_EQ.csv\"))\n",
    "#may"
   ]
  },
  {
   "cell_type": "code",
   "execution_count": null,
   "id": "14750e9d",
   "metadata": {},
   "outputs": [],
   "source": []
  }
 ],
 "metadata": {
  "kernelspec": {
   "display_name": "Python 3 (ipykernel)",
   "language": "python",
   "name": "python3"
  },
  "language_info": {
   "codemirror_mode": {
    "name": "ipython",
    "version": 3
   },
   "file_extension": ".py",
   "mimetype": "text/x-python",
   "name": "python",
   "nbconvert_exporter": "python",
   "pygments_lexer": "ipython3",
   "version": "3.9.7"
  }
 },
 "nbformat": 4,
 "nbformat_minor": 5
}
